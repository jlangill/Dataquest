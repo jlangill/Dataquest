{
 "cells": [
  {
   "cell_type": "code",
   "execution_count": 1,
   "metadata": {
    "collapsed": false
   },
   "outputs": [
    {
     "name": "stdout",
     "output_type": "stream",
     "text": [
      "[['', 'year', 'month', 'intent', 'police', 'sex', 'age', 'race', 'hispanic', 'place', 'education'], ['1', '2012', '01', 'Suicide', '0', 'M', '34', 'Asian/Pacific Islander', '100', 'Home', '4'], ['2', '2012', '01', 'Suicide', '0', 'F', '21', 'White', '100', 'Street', '3'], ['3', '2012', '01', 'Suicide', '0', 'M', '60', 'White', '100', 'Other specified', '4'], ['4', '2012', '02', 'Suicide', '0', 'M', '64', 'White', '100', 'Home', '4']]\n"
     ]
    }
   ],
   "source": [
    "import csv\n",
    "# Import guns.csv\n",
    "f = open(\"guns.csv\")\n",
    "data= list(csv.reader(f))\n",
    "# Let's look at the data\n",
    "print(data[0:5])\n"
   ]
  },
  {
   "cell_type": "code",
   "execution_count": 2,
   "metadata": {
    "collapsed": false
   },
   "outputs": [
    {
     "name": "stdout",
     "output_type": "stream",
     "text": [
      "['', 'year', 'month', 'intent', 'police', 'sex', 'age', 'race', 'hispanic', 'place', 'education']\n",
      "[['1', '2012', '01', 'Suicide', '0', 'M', '34', 'Asian/Pacific Islander', '100', 'Home', '4'], ['2', '2012', '01', 'Suicide', '0', 'F', '21', 'White', '100', 'Street', '3'], ['3', '2012', '01', 'Suicide', '0', 'M', '60', 'White', '100', 'Other specified', '4'], ['4', '2012', '02', 'Suicide', '0', 'M', '64', 'White', '100', 'Home', '4'], ['5', '2012', '02', 'Suicide', '0', 'M', '31', 'White', '100', 'Other specified', '2']]\n"
     ]
    }
   ],
   "source": [
    "# Init count\n",
    "count = 0\n",
    "#Loop thru data\n",
    "for row in data:\n",
    "    # Increment counter\n",
    "    count += 1\n",
    "    # If it is the first line, write to header and remove from data\n",
    "    if count == 1:\n",
    "        headers= row\n",
    "        data.remove(row)\n",
    "        \n",
    "print(headers)\n",
    "print(data[0:5])\n",
    "\n",
    "        "
   ]
  },
  {
   "cell_type": "code",
   "execution_count": 3,
   "metadata": {
    "collapsed": false
   },
   "outputs": [
    {
     "name": "stdout",
     "output_type": "stream",
     "text": [
      "{'2012': 33563, '2014': 33599, '2013': 33636}\n"
     ]
    }
   ],
   "source": [
    "# Create dictionary called year_counts\n",
    "year_counts= {}\n",
    "# Loop thru data\n",
    "for row in data:\n",
    "    # Identify year\n",
    "    year = row[1]\n",
    "    # See if year exists in year_counts\n",
    "    if year in year_counts:\n",
    "        # If so, increment counter for that year\n",
    "        year_counts[year] = year_counts[year] + 1\n",
    "    else:\n",
    "        # Otherwise create an entry for that year with a count of 1\n",
    "        year_counts[year] = 1\n",
    "# Display Year Counts\n",
    "print(year_counts)\n",
    "    \n",
    "    \n",
    "\n"
   ]
  },
  {
   "cell_type": "code",
   "execution_count": 4,
   "metadata": {
    "collapsed": false
   },
   "outputs": [
    {
     "name": "stdout",
     "output_type": "stream",
     "text": [
      "[datetime.datetime(2012, 1, 1, 0, 0), datetime.datetime(2012, 1, 1, 0, 0), datetime.datetime(2012, 1, 1, 0, 0), datetime.datetime(2012, 2, 1, 0, 0), datetime.datetime(2012, 2, 1, 0, 0)]\n",
      "{datetime.datetime(2013, 6, 1, 0, 0): 2920, datetime.datetime(2012, 6, 1, 0, 0): 2826, datetime.datetime(2012, 4, 1, 0, 0): 2795, datetime.datetime(2014, 1, 1, 0, 0): 2651, datetime.datetime(2013, 10, 1, 0, 0): 2808, datetime.datetime(2013, 12, 1, 0, 0): 2765, datetime.datetime(2012, 7, 1, 0, 0): 3026, datetime.datetime(2014, 4, 1, 0, 0): 2862, datetime.datetime(2012, 8, 1, 0, 0): 2954, datetime.datetime(2014, 10, 1, 0, 0): 2865, datetime.datetime(2012, 5, 1, 0, 0): 2999, datetime.datetime(2014, 8, 1, 0, 0): 2970, datetime.datetime(2014, 5, 1, 0, 0): 2864, datetime.datetime(2012, 3, 1, 0, 0): 2743, datetime.datetime(2013, 4, 1, 0, 0): 2798, datetime.datetime(2013, 3, 1, 0, 0): 2862, datetime.datetime(2013, 7, 1, 0, 0): 3079, datetime.datetime(2013, 11, 1, 0, 0): 2758, datetime.datetime(2012, 11, 1, 0, 0): 2729, datetime.datetime(2014, 7, 1, 0, 0): 2884, datetime.datetime(2014, 2, 1, 0, 0): 2361, datetime.datetime(2013, 1, 1, 0, 0): 2864, datetime.datetime(2014, 6, 1, 0, 0): 2931, datetime.datetime(2012, 1, 1, 0, 0): 2758, datetime.datetime(2014, 3, 1, 0, 0): 2684, datetime.datetime(2013, 2, 1, 0, 0): 2375, datetime.datetime(2014, 12, 1, 0, 0): 2857, datetime.datetime(2013, 5, 1, 0, 0): 2806, datetime.datetime(2012, 10, 1, 0, 0): 2733, datetime.datetime(2013, 8, 1, 0, 0): 2859, datetime.datetime(2014, 11, 1, 0, 0): 2756, datetime.datetime(2013, 9, 1, 0, 0): 2742, datetime.datetime(2012, 2, 1, 0, 0): 2357, datetime.datetime(2012, 9, 1, 0, 0): 2852, datetime.datetime(2012, 12, 1, 0, 0): 2791, datetime.datetime(2014, 9, 1, 0, 0): 2914}\n"
     ]
    }
   ],
   "source": [
    "import datetime\n",
    "\n",
    "# Init Dates list and date_counts dictionary\n",
    "dates= []\n",
    "date_counts= {}\n",
    "\n",
    "# Loop thru Data\n",
    "for row in data:\n",
    "    # Create a date from year and month, hardcode day as 1\n",
    "    date_to_append = datetime.datetime(year=int(row[1]), month=int(row[2]), day=1)\n",
    "    # Append newly created date to dates list\n",
    "    dates.append(date_to_append)\n",
    "\n",
    "print(dates[0:5])\n",
    "\n",
    "# Loop thru dates list\n",
    "for row in dates:\n",
    "    # Write the row to date_to_check variable\n",
    "    date_to_check = row\n",
    "    # Check if date exists in date_counts, if so increment counter, otherwise add with count of 1\n",
    "    if date_to_check in date_counts:\n",
    "        date_counts[date_to_check] = date_counts[date_to_check] + 1\n",
    "    else:\n",
    "        date_counts[date_to_check] = 1\n",
    "    \n",
    "print(date_counts) "
   ]
  },
  {
   "cell_type": "code",
   "execution_count": 5,
   "metadata": {
    "collapsed": false
   },
   "outputs": [
    {
     "name": "stdout",
     "output_type": "stream",
     "text": [
      "{'M': 86349, 'F': 14449}\n",
      "{'White': 66237, 'Black': 23296, 'Asian/Pacific Islander': 1326, 'Hispanic': 9022, 'Native American/Native Alaskan': 917}\n"
     ]
    }
   ],
   "source": [
    "# Init sex_counts and race_counts\n",
    "sex_counts = {}\n",
    "race_counts = {}\n",
    "\n",
    "# Loop thru data\n",
    "for row in data:\n",
    "    # Determine sex and race\n",
    "    sex = row[5]\n",
    "    race = row[7]\n",
    "    # See if sex exists in sex_counts\n",
    "    if sex in sex_counts:\n",
    "        # If so, increment counter for that sex\n",
    "        sex_counts[sex] = sex_counts[sex] + 1\n",
    "    else:\n",
    "        # Otherwise create an entry for that sex with a count of 1\n",
    "        sex_counts[sex] = 1\n",
    "    # See if sex exists in sex_counts\n",
    "    if race in race_counts:\n",
    "        # If so, increment counter for that race\n",
    "        race_counts[race] = race_counts[race] + 1\n",
    "    else:\n",
    "        # Otherwise create an entry for that race with a count of 1\n",
    "        race_counts[race] = 1       \n",
    "        \n",
    "# Display the dictionaries\n",
    "print(sex_counts)\n",
    "print(race_counts)\n",
    "\n"
   ]
  },
  {
   "cell_type": "markdown",
   "metadata": {},
   "source": [
    "Gun Deaths\n",
    "\n",
    "Number of Deaths:\n",
    "This file covers the years of 2012-2014. During this time the # of gun deaths did not change significantly, with the difference between the lowest and highest # of gun deaths being 93 deaths.\n",
    "\n",
    "2012 had 33563 gun deaths\n",
    "2013 had 33636 gun deaths\n",
    "2014 had 33599 gun deaths\n",
    "\n",
    "Sex:\n",
    "Males are more likely to die from guns then females. \n",
    "\n",
    "Race:\n",
    "Native American/Native Alaskans had the lowest number of deaths, while Blacks had the highest number of deaths.\n",
    "\n",
    "Black: 23296\n",
    "White: 66237\n",
    "Hispanic: 9022\n",
    "Asian/Pacific Islander: 1326\n",
    "Native American/Native Alaskan: 917\n",
    "\n",
    "For further evaluation:\n",
    "\n",
    "For race, we need to consider the percentage of the population that is made up of the race. The numbers are most informational if you know what percentage of that race was killed by guns in that time period. Comparing Black and .Native American/Native Alaskan deaths mean nothing if Native American/Native Alaskan is a small percentage of the overall population.\n",
    "\n",
    "We have not yet considered intent, police, or location.\n"
   ]
  },
  {
   "cell_type": "code",
   "execution_count": 6,
   "metadata": {
    "collapsed": false
   },
   "outputs": [
    {
     "name": "stdout",
     "output_type": "stream",
     "text": [
      "[['Id', 'Year', 'Id', 'Sex', 'Id', 'Hispanic Origin', 'Id', 'Id2', 'Geography', 'Total', 'Race Alone - White', 'Race Alone - Hispanic', 'Race Alone - Black or African American', 'Race Alone - American Indian and Alaska Native', 'Race Alone - Asian', 'Race Alone - Native Hawaiian and Other Pacific Islander', 'Two or More Races'], ['cen42010', 'April 1, 2010 Census', 'totsex', 'Both Sexes', 'tothisp', 'Total', '0100000US', '', 'United States', '308745538', '197318956', '44618105', '40250635', '3739506', '15159516', '674625', '6984195']]\n"
     ]
    }
   ],
   "source": [
    "# Import census.csv\n",
    "f = open(\"census.csv\")\n",
    "census= list(csv.reader(f))\n",
    "print(census)\n"
   ]
  },
  {
   "cell_type": "code",
   "execution_count": 7,
   "metadata": {
    "collapsed": false
   },
   "outputs": [
    {
     "name": "stdout",
     "output_type": "stream",
     "text": [
      "{'White': 33.56849303419181, 'Black': 57.8773477735196, 'Asian/Pacific Islander': 8.374309664161762, 'Hispanic': 20.220491210910907, 'Native American/Native Alaskan': 24.521955573811088}\n"
     ]
    }
   ],
   "source": [
    "# Create manual mapping\n",
    "mapping = {\n",
    "    \"Asian/Pacific Islander\": 15159516 + 674625,\n",
    "    \"Native American/Native Alaskan\": 3739506,\n",
    "    \"Black\": 40250635,\n",
    "    \"Hispanic\": 44618105,\n",
    "    \"White\": 197318956\n",
    "}\n",
    "\n",
    "# Init race_per_hundredk dictionary\n",
    "race_per_hundredk = {}\n",
    "\n",
    "# Loop thru race_counts\n",
    "for key,value in race_counts.items():\n",
    "    #Divide the value associated with the key in race_counts by the \n",
    "    #value associated with the key in mapping. Then multiply by 100000\n",
    "    race_per_hundredk[key] = (value/mapping[key])*100000\n",
    "    \n",
    "print(race_per_hundredk)\n"
   ]
  },
  {
   "cell_type": "code",
   "execution_count": 13,
   "metadata": {
    "collapsed": false
   },
   "outputs": [
    {
     "name": "stdout",
     "output_type": "stream",
     "text": [
      "{'White': 4.6356417981453335, 'Black': 48.471284987180944, 'Asian/Pacific Islander': 3.530346230970155, 'Hispanic': 12.627161104219914, 'Native American/Native Alaskan': 8.717729026240365}\n"
     ]
    }
   ],
   "source": [
    "intents = []\n",
    "races = []\n",
    "# Loop thru data and gather intents and races\n",
    "for item in data:\n",
    "    intents.append(item[3])\n",
    "    races.append(item[7])\n",
    "\n",
    "homicide_race_per_hundredk = {}\n",
    "\n",
    "# Enumerate races\n",
    "for i, race in enumerate(races):\n",
    "    # If race does not exist in dictionary, add it\n",
    "    if race not in homicide_race_per_hundredk:\n",
    "        homicide_race_per_hundredk[race] = 0\n",
    "    # If the gun death was homicide, increment the counter\n",
    "    if intents[i] == \"Homicide\":\n",
    "        homicide_race_per_hundredk[race] += 1\n",
    "\n",
    "\n",
    "# Loop thru race_counts\n",
    "for key,value in homicide_race_per_hundredk.items():\n",
    "    #Divide the value associated with the key in homicide_race_per_hundredk by the \n",
    "    #value associated with the key in mapping. Then multiply by 100000\n",
    "    homicide_race_per_hundredk[key] = (value/mapping[key])*100000  \n",
    "    \n",
    "print(homicide_race_per_hundredk)    \n",
    "            "
   ]
  },
  {
   "cell_type": "markdown",
   "metadata": {},
   "source": [
    "Taking intent and percent of population changes our findings a bit. For example, Native Amerian/Native Alaskan had the lowest # of deaths, but when you take population and intent into the equation, Pacific Islander is lowest and Native Amerian/Native Alaskan is second lowest."
   ]
  }
 ],
 "metadata": {
  "kernelspec": {
   "display_name": "Python 3",
   "language": "python",
   "name": "python3"
  },
  "language_info": {
   "codemirror_mode": {
    "name": "ipython",
    "version": 3
   },
   "file_extension": ".py",
   "mimetype": "text/x-python",
   "name": "python",
   "nbconvert_exporter": "python",
   "pygments_lexer": "ipython3",
   "version": "3.4.3"
  }
 },
 "nbformat": 4,
 "nbformat_minor": 0
}
